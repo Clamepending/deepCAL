{
 "cells": [
  {
   "cell_type": "code",
   "execution_count": 1,
   "metadata": {},
   "outputs": [
    {
     "name": "stderr",
     "output_type": "stream",
     "text": [
      "c:\\Users\\Mark\\anaconda3\\envs\\ModifiedCALenv\\lib\\site-packages\\pyglet\\image\\codecs\\wic.py:406: UserWarning: [WinError -2147417850] Cannot change thread mode after it is set\n",
      "  warnings.warn(str(err))\n"
     ]
    }
   ],
   "source": [
    "import os\n",
    "import numpy as np\n",
    "from PIL import Image\n",
    "import matplotlib.pyplot as plt\n",
    "import time\n",
    "import deepcallib"
   ]
  },
  {
   "cell_type": "code",
   "execution_count": 2,
   "metadata": {},
   "outputs": [
    {
     "data": {
      "text/plain": [
       "'\\nInput: folder with test STL files\\n\\nparams:\\nerror function (MSE, voxel count, jacard, surface error)\\n\\n\\n\\nsteps:\\ndo VTB projections, save in folder\\ndo ML projections, save in folder\\nget preProjection, save in folder\\n\\ncaclulate rotations number for VTB\\ncaclulate rotations number for ML\\ncaclulate rotations number for preProjections\\n\\nMeasure error\\n\\n\\n'"
      ]
     },
     "execution_count": 2,
     "metadata": {},
     "output_type": "execute_result"
    }
   ],
   "source": [
    "# STL_Folder = \"D:/archive/members/mark/accuracy_testing/128x128/STL_Files/\"\n",
    "# VTBOutputFolder = \"D:/archive/members/mark/accuracy_testing/128x128/VTB/\"\n",
    "# MLOutputFolder = \"D:/archive/members/mark/accuracy_testing/128x128/ML/\"\n",
    "# PreProjectionsOutputFolder = \"D:/archive/members/mark/accuracy_testing/128x128/preProjections\"\n",
    "# ML_Model = \"D:/archive/members/mark/accuracy_testing/128x128/model_128x128_200.pth\"\n",
    "STL_Folder = \"./accuracy_testing/128x128/STL_Files/\"\n",
    "VTBOutputFolder = \"./accuracy_testing/128x128/VTB/\"\n",
    "MLOutputFolder = \"./accuracy_testing/128x128/ML/\"\n",
    "PreProjectionsOutputFolder = \"./accuracy_testing/128x128/preProjections/\"\n",
    "ML_Model = \"./model_128x128_REVERSED_200.pth\"\n",
    "dimension = [128, 128]\n",
    "\n",
    "enable_rotation_optimization = False\n",
    "error_function = deepcallib.surface_compare_combined_error # array, array => number\n",
    "num_angles = 360\n",
    "n_iter  = 20\n",
    "d_h = 0.85\n",
    "d_l = 0.6\n",
    "filterType = 'hamming' #ramlak\n",
    "method = 'OSMO'\n",
    "resolution = dimension[1]\n",
    "batch_size = 90\n",
    "\n",
    "start_time = time.time()\n",
    "\n",
    "use_saved_np_array = True\n",
    "\n",
    "\"\"\"\n",
    "Input: folder with test STL files\n",
    "\n",
    "params:\n",
    "error function (MSE, voxel count, jacard, surface error)\n",
    "\n",
    "\n",
    "\n",
    "steps:\n",
    "do VTB projections, save in folder\n",
    "do ML projections, save in folder\n",
    "get preProjection, save in folder\n",
    "\n",
    "caclulate rotations number for VTB\n",
    "caclulate rotations number for ML\n",
    "caclulate rotations number for preProjections\n",
    "\n",
    "Measure error\n",
    "\n",
    "\n",
    "\"\"\"\n"
   ]
  },
  {
   "cell_type": "markdown",
   "metadata": {},
   "source": [
    "# PART1 DATA GENERATION"
   ]
  },
  {
   "cell_type": "code",
   "execution_count": 3,
   "metadata": {},
   "outputs": [],
   "source": [
    "if not use_saved_np_array:\n",
    "    # prepare for data generation\n",
    "    STL_files = os.listdir(STL_Folder)\n",
    "    print(f\"we will use these STL files: {STL_files}\")\n",
    "\n",
    "    def clear_folder(folder):\n",
    "        # clear all output image sequences FOR TESTING PURPOSES\n",
    "        # DELETE THIS WHEN DOING A REAL DATA GENERATION RUN\n",
    "        for f in os.listdir(folder):\n",
    "            os.remove(os.path.join(folder, f))\n",
    "\n",
    "    clear_folder(PreProjectionsOutputFolder)\n",
    "    clear_folder(MLOutputFolder)\n",
    "    clear_folder(VTBOutputFolder)\n",
    "\n",
    "    deepcallib.batch_rotate_stl_files(STL_Folder, STL_Folder)\n",
    "\n"
   ]
  },
  {
   "cell_type": "code",
   "execution_count": 4,
   "metadata": {},
   "outputs": [],
   "source": [
    "if not use_saved_np_array:\n",
    "    # 1. VTB + Pre Projections\n",
    "    vtb_start_time = time.time()\n",
    "\n",
    "    import vamtoolbox as vam\n",
    "\n",
    "\n",
    "    optimizer_params = vam.optimize.Options(method=method, n_iter=n_iter, d_h = d_h, d_l = d_l, filter=filterType)\n",
    "    angles = np.linspace(0, 360 - 360/num_angles, num_angles)\n",
    "    iconfig0=vam.imagesequence.ImageConfig(image_dims=(dimension[0],dimension[1]),array_offset=0)\n",
    "    # path sanity check\n",
    "\n",
    "    files = []\n",
    "    for file in STL_files:\n",
    "        file = STL_Folder + file\n",
    "        files.append(file)\n",
    "\n",
    "    print(\"Generating data\")\n",
    "    deepcallib.generatedata(files, resolution, angles, optimizer_params, dimension, VTBOutputFolder, PreProjectionsOutputFolder)\n",
    "\n",
    "    vtb_end_time = time.time()\n",
    "\n",
    "    print(f\"VTB took {vtb_end_time - vtb_start_time} seconds\")"
   ]
  },
  {
   "cell_type": "code",
   "execution_count": 5,
   "metadata": {},
   "outputs": [],
   "source": [
    "if not use_saved_np_array:\n",
    "    # 2. ML\n",
    "    ML_start_time = time.time()\n",
    "\n",
    "    # run model on pre projections\n",
    "    deepcallib.generatedata_ML(ML_Model, PreProjectionsOutputFolder, MLOutputFolder, batch_size, use_cpu = True)\n",
    "\n",
    "    ML_end_time = time.time()\n",
    "\n",
    "    print(f\"ML took {ML_end_time - ML_start_time} seconds\")\n"
   ]
  },
  {
   "cell_type": "markdown",
   "metadata": {},
   "source": [
    "# PART2 ACCURACY"
   ]
  },
  {
   "cell_type": "code",
   "execution_count": 6,
   "metadata": {},
   "outputs": [],
   "source": [
    "if not use_saved_np_array:\n",
    "\n",
    "    projections_VTB = deepcallib.load_png_to_numpy_array(\"./accuracy_testing/128x128/VTB/\", rotate=True)\n",
    "\n",
    "    projections_ML = deepcallib.load_png_to_numpy_array('./accuracy_testing/128x128/ML/', rotate=True)\n",
    "\n",
    "    projections_NO_opt = deepcallib.load_png_to_numpy_array('./accuracy_testing/128x128/preProjections/', rotate=True)\n",
    "\n",
    "    # Generate the 3d voxels for ground truth and reconstruction\n",
    "\n",
    "    stl_file_name = \"./accuracy_testing/128x128/STL_Files/pikachu.stl\"\n",
    "    resolution=projections_ML.shape[2]\n",
    "\n",
    "    reconstruction_ML = deepcallib.inverse_radon(projections=projections_ML, STLfile_name=stl_file_name, resolution=resolution)\n",
    "    reconstruction_NO_opt = deepcallib.inverse_radon(projections=projections_NO_opt, STLfile_name=stl_file_name, resolution=resolution)\n",
    "    reconstruction_VTB = deepcallib.inverse_radon(projections=projections_VTB, STLfile_name=stl_file_name, resolution=resolution)\n",
    "\n",
    "    ground_truth = vam.geometry.TargetGeometry(stlfilename=stl_file_name, resolution=resolution).array\n",
    "    ground_truth = deepcallib.expand_3d_numpy_array(ground_truth, reconstruction_ML.shape)\n",
    "    ground_truth = np.flip(ground_truth, axis=2)\n",
    "    np.save(\"ground_truth.npy\", ground_truth)\n",
    "    np.save(\"reconstruction_ML.npy\", reconstruction_ML)\n",
    "    np.save(\"reconstruction_VTB.npy\", reconstruction_VTB)\n",
    "    np.save(\"reconstruction_NO_opt.npy\", reconstruction_NO_opt)"
   ]
  },
  {
   "cell_type": "code",
   "execution_count": 7,
   "metadata": {},
   "outputs": [],
   "source": [
    "\n",
    "if use_saved_np_array:\n",
    "    ground_truth = np.load(\"ground_truth.npy\")\n",
    "    reconstruction_ML = np.load(\"reconstruction_ML.npy\")\n",
    "    reconstruction_VTB = np.load(\"reconstruction_VTB.npy\")\n",
    "    reconstruction_NO_opt = np.load(\"reconstruction_NO_opt.npy\")\n",
    "\n"
   ]
  },
  {
   "cell_type": "code",
   "execution_count": 8,
   "metadata": {},
   "outputs": [],
   "source": [
    "# opt_rotations_NO_opt = deepcallib.calculate_optimal_rotations_surface_compare(ground_truth, reconstruction_NO_opt, name=\"NO opt\", max_iterations=7, resolution=7, initial_range=[0.5, 2], print_errors=True)\n",
    "# opt_rotations_VTB = deepcallib.calculate_optimal_rotations_surface_compare(ground_truth, reconstruction_VTB, name=\"NO opt\", max_iterations=5, resolution=5, initial_range=[0.5, 2], print_errors=True)\n",
    "\n"
   ]
  },
  {
   "cell_type": "code",
   "execution_count": 9,
   "metadata": {},
   "outputs": [],
   "source": [
    "# print(ground_truth[50])\n",
    "\n",
    "# ground_truth_modified = np.array(ground_truth)\n",
    "# reconstruction_VTB_modified = np.array(reconstruction_VTB)\n",
    "ground_truth_modified = np.array([ground_truth[50]])\n",
    "reconstruction_VTB_modified = np.array([reconstruction_VTB[50]])\n",
    "# opt_rotations_VTB = deepcallib.calculate_optimal_rotations_surface_compare(ground_truth_modified, reconstruction_VTB_modified, name=\"VTB\", max_iterations=7, resolution=7, initial_range=[0.5, 2], print_errors=True)\n",
    "\n",
    "# reconstruction_ML_modified = np.array([reconstruction_ML[50]])\n",
    "# opt_rotations_ML = deepcallib.calculate_optimal_rotations_surface_compare(ground_truth_modified, reconstruction_ML_modified, name=\"Ml\", max_iterations=7, resolution=7, initial_range=[0.5, 2], print_errors=True)\n",
    "\n",
    "\n",
    "# reconstruction_NO_opt_modified = np.array([reconstruction_NO_opt[50]])\n",
    "# opt_rotations_NO_opt = deepcallib.calculate_optimal_rotations_surface_compare(ground_truth_modified, reconstruction_NO_opt_modified, name=\"NO opt\", max_iterations=7, resolution=7, initial_range=[0.5, 2], print_errors=True)\n",
    "\n",
    "\n",
    "# # Plot the 2D array as a surface\n",
    "# plt.imshow(ground_truth_modified[0], cmap='viridis', interpolation='nearest', vmin=0, vmax=1)\n",
    "# plt.colorbar()\n",
    "# # Show the plot\n",
    "# plt.show()\n",
    "\n",
    "# # Plot the 2D array as a surface\n",
    "# plt.imshow(reconstruction_VTB_modified[0], cmap='viridis', interpolation='nearest', vmin=0, vmax=1)\n",
    "# plt.colorbar()\n",
    "# # Show the plot\n",
    "# plt.show()\n",
    "\n",
    "# opt_rotations_VTB = deepcallib.calculate_optimal_rotations(ground_truth, reconstruction_VTB, error_function, name=\"VTB\", max_iterations=4, resolution=5, initial_range=[0.5, 2], print_errors=True)\n",
    "# opt_rotations_VTB = deepcallib.calculate_optimal_rotations(ground_truth_modified, reconstruction_VTB_modified, error_function, name=\"VTB\", max_iterations=4, resolution=5, initial_range=[0.5, 2], print_errors=True)\n",
    "\n",
    "\n",
    "\n",
    "# opt_rotations_ML = deepcallib.calculate_optimal_rotations(ground_truth, reconstruction_ML, error_function, name=\"ML\", initial_range=[0, 4])\n",
    "# opt_rotations_NO_opt = deepcallib.calculate_optimal_rotations(ground_truth, reconstruction_NO_opt, error_function, name=\"NO_opt\", initial_range=[0, 4])\n",
    "\n",
    "# print(f\"best number of rotations for VTB: {opt_rotations_VTB}\")\n",
    "# print(f\"best number of rotations for ML: {opt_rotations_ML}\")\n",
    "# print(f\"best number of rotations for no optimization: {opt_rotations_NO_opt}\")\n",
    "\n",
    "\n",
    "# for 2 dim\n",
    "# no multithread\n",
    "# 20 sec\n",
    "\n",
    "# multithread\n",
    "# 9.3 sec\n",
    "\n",
    "\n",
    "# for 128x128x20\n",
    "# multithread\n",
    "# 14 min\n",
    "\n",
    "\n",
    "################################################################################################\n",
    "# best number of rotations for VTB: 1.4500000000000002\n",
    "# best number of rotations for ML: 1.6750000000000003\n",
    "# best number of rotations for no optimization: 1.0250000000000001"
   ]
  },
  {
   "cell_type": "code",
   "execution_count": 10,
   "metadata": {},
   "outputs": [
    {
     "name": "stdout",
     "output_type": "stream",
     "text": [
      "processing ground truth\n"
     ]
    },
    {
     "name": "stdout",
     "output_type": "stream",
     "text": [
      "finding border voxels...\n",
      "done finding border voxels...\n"
     ]
    },
    {
     "ename": "OSError",
     "evalue": "exception: access violation writing 0x0000019B1FA54090",
     "output_type": "error",
     "traceback": [
      "\u001b[1;31m---------------------------------------------------------------------------\u001b[0m",
      "\u001b[1;31mOSError\u001b[0m                                   Traceback (most recent call last)",
      "\u001b[1;32mc:\\Users\\Mark\\Desktop\\savio\\deepCAL\\Generate_accuracy_data.ipynb Cell 12\u001b[0m line \u001b[0;36m1\n\u001b[1;32m----> <a href='vscode-notebook-cell:/c%3A/Users/Mark/Desktop/savio/deepCAL/Generate_accuracy_data.ipynb#X13sZmlsZQ%3D%3D?line=0'>1</a>\u001b[0m deepcallib\u001b[39m.\u001b[39;49mplot_error_distribution(ground_truth, reconstruction_VTB_modified, rotation_factor \u001b[39m=\u001b[39;49m \u001b[39m1.1\u001b[39;49m)\n",
      "File \u001b[1;32mc:\\Users\\Mark\\Desktop\\savio\\deepCAL\\deepcallib.py:794\u001b[0m, in \u001b[0;36mplot_error_distribution\u001b[1;34m(ground_truth, predicted, rotation_factor)\u001b[0m\n\u001b[0;32m    792\u001b[0m     \u001b[39mprint\u001b[39m(\u001b[39m\"\u001b[39m\u001b[39mreconstruction is empty\u001b[39m\u001b[39m\"\u001b[39m)\n\u001b[0;32m    793\u001b[0m \u001b[39melse\u001b[39;00m:\n\u001b[1;32m--> 794\u001b[0m     e1 \u001b[39m=\u001b[39m bfs_search_c(\u001b[39m1\u001b[39;49m, ground_truth_cured_surface, reconstruction)\n\u001b[0;32m    795\u001b[0m     e2 \u001b[39m=\u001b[39m bfs_search_c(\u001b[39m0\u001b[39m, ground_truth_uncured_surface, reconstruction)\n\u001b[0;32m    797\u001b[0m     e1_filtered \u001b[39m=\u001b[39m np\u001b[39m.\u001b[39marray(e1)[np\u001b[39m.\u001b[39marray(e1) \u001b[39m!=\u001b[39m \u001b[39m4096\u001b[39m]\n",
      "File \u001b[1;32mc:\\Users\\Mark\\Desktop\\savio\\deepCAL\\deepcallib.py:927\u001b[0m, in \u001b[0;36mbfs_search_c\u001b[1;34m(float_value, start_points, space_array, max_distance)\u001b[0m\n\u001b[0;32m    924\u001b[0m space_dimensions \u001b[39m=\u001b[39m np\u001b[39m.\u001b[39marray(space_array\u001b[39m.\u001b[39mshape, dtype\u001b[39m=\u001b[39mnp\u001b[39m.\u001b[39mint32)\n\u001b[0;32m    926\u001b[0m \u001b[39m# Call the C function\u001b[39;00m\n\u001b[1;32m--> 927\u001b[0m result_pointer \u001b[39m=\u001b[39m bfs_function(float_value, start_points_array, \u001b[39mlen\u001b[39;49m(start_points), space_array_c, max_distance, space_dimensions\u001b[39m.\u001b[39;49mctypes\u001b[39m.\u001b[39;49mdata_as(ctypes\u001b[39m.\u001b[39;49mPOINTER(ctypes\u001b[39m.\u001b[39;49mc_int)))\n\u001b[0;32m    929\u001b[0m \u001b[39m# Convert the result to a NumPy array\u001b[39;00m\n\u001b[0;32m    930\u001b[0m result_size \u001b[39m=\u001b[39m \u001b[39mlen\u001b[39m(start_points)\n",
      "\u001b[1;31mOSError\u001b[0m: exception: access violation writing 0x0000019B1FA54090"
     ]
    }
   ],
   "source": [
    "deepcallib.plot_error_distribution(ground_truth, reconstruction_VTB_modified, rotation_factor = 1.1)\n"
   ]
  },
  {
   "cell_type": "code",
   "execution_count": null,
   "metadata": {},
   "outputs": [],
   "source": [
    "# best_number_of_rotation_VTB = 1.4500000000000002\n",
    "# best_number_of_rotation_ML = 1.6750000000000003\n",
    "# best_number_of_rotation_NO_opt = 1.0250000000000001\n",
    "\n",
    "# best_number_of_rotation_NO_opt = 0.4500000000000001\n",
    "# best_number_of_rotation_VTB = 0.75\n",
    "# best_number_of_rotation_ML = 0.6500000000000001\n",
    "\n",
    "\n",
    "\n",
    "\n",
    "\n",
    "\n",
    "\n",
    "# deepcallib.plot(np.array(ground_truth), d_l=0.001, d_h=1)\n",
    "\n",
    "# NO_opt = deepcallib.round_3d_array(reconstruction_NO_opt, round_down_threshold=d_l, round_up_threshold=d_h)\n",
    "# NO_opt = deepcallib.round_3d_array(reconstruction_NO_opt * best_number_of_rotation_NO_opt, round_down_threshold=d_l, round_up_threshold=d_h)  \n",
    "# deepcallib.plot(np.array(NO_opt), d_l=0.001, d_h=1)\n",
    "\n",
    "VTB_opt = deepcallib.round_3d_array(reconstruction_NO_opt*opt_rotations_VTB, round_down_threshold=d_l, round_up_threshold=d_h)  \n",
    "# VTB_opt = deepcallib.round_3d_array(reconstruction_VTB * best_number_of_rotation_VTB, round_down_threshold=d_l, round_up_threshold=d_h)  \n",
    "deepcallib.plot(np.array(VTB_opt), d_l=0.001, d_h=1)\n",
    "\n",
    "# ML_opt = deepcallib.round_3d_array(reconstruction_ML*opt_rotations_ML, round_down_threshold=d_l, round_up_threshold=d_h)  \n",
    "# ML_opt = deepcallib.round_3d_array(reconstruction_ML * best_number_of_rotation_ML, round_down_threshold=d_l, round_up_threshold=d_h)  \n",
    "# deepcallib.plot(np.array(ML_opt), d_l=0.001, d_h=1)"
   ]
  }
 ],
 "metadata": {
  "kernelspec": {
   "display_name": "ModifiedCALenv",
   "language": "python",
   "name": "python3"
  },
  "language_info": {
   "codemirror_mode": {
    "name": "ipython",
    "version": 3
   },
   "file_extension": ".py",
   "mimetype": "text/x-python",
   "name": "python",
   "nbconvert_exporter": "python",
   "pygments_lexer": "ipython3",
   "version": "3.9.11"
  },
  "orig_nbformat": 4
 },
 "nbformat": 4,
 "nbformat_minor": 2
}
