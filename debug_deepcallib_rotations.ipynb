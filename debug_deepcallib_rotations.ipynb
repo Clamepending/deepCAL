{
 "cells": [
  {
   "cell_type": "code",
   "execution_count": 2,
   "metadata": {},
   "outputs": [
    {
     "name": "stderr",
     "output_type": "stream",
     "text": [
      "c:\\Users\\Mark\\anaconda3\\envs\\ModifiedCALenv\\lib\\site-packages\\pyglet\\image\\codecs\\wic.py:406: UserWarning: [WinError -2147417850] Cannot change thread mode after it is set\n",
      "  warnings.warn(str(err))\n"
     ]
    }
   ],
   "source": [
    "import deepcallib\n",
    "\n",
    "import numpy as np\n",
    "\n",
    "# l = 2  # Number of layers\n",
    "# w = 2  # Width\n",
    "# h = 2  # Height\n",
    "\n",
    "\n",
    "# zeros = np.zeros((l, w, h), dtype=float)\n",
    "# ones = np.ones((l, w, h), dtype=float)\n",
    "\n",
    "# opt_rotations = deepcallib.calculate_optimal_rotations(zeros, ones, error_function = deepcallib.MSE, name=\"VTB\", initial_range=[0, 4])\n",
    "# opt_rotations = deepcallib.calculate_optimal_rotations(ones, zeros, error_function = deepcallib.MSE, name=\"VTB\", initial_range=[0, 4])\n",
    "\n",
    "\n"
   ]
  },
  {
   "cell_type": "code",
   "execution_count": 3,
   "metadata": {},
   "outputs": [],
   "source": [
    "\n",
    "# one_in_corder = np.zeros((l, w, h), dtype=float)\n",
    "# one_in_corder[0][0][0] = 1\n",
    "\n",
    "# opt_rotations = deepcallib.calculate_optimal_rotations(zeros, one_in_corder, error_function = deepcallib.MSE, name=\"VTB\", initial_range=[0, 4])\n",
    "# opt_rotations = deepcallib.calculate_optimal_rotations(one_in_corder, zeros, error_function = deepcallib.MSE, name=\"VTB\", initial_range=[0, 4])\n",
    "\n"
   ]
  },
  {
   "cell_type": "code",
   "execution_count": 4,
   "metadata": {},
   "outputs": [],
   "source": [
    "# all_half = 0.5 * np.ones((l, w, h), dtype=float)\n",
    "\n",
    "# opt_rotations = deepcallib.calculate_optimal_rotations(zeros, all_half, error_function = deepcallib.MSE, name=\"VTB\", initial_range=[0, 4])\n"
   ]
  },
  {
   "cell_type": "markdown",
   "metadata": {},
   "source": [
    "Now we compare to all 1s\n"
   ]
  },
  {
   "cell_type": "code",
   "execution_count": 5,
   "metadata": {},
   "outputs": [],
   "source": [
    "# all_half = 0.5 * np.ones((l, w, h), dtype=float)\n",
    "\n",
    "\n",
    "# opt_rotations = deepcallib.calculate_optimal_rotations(ones, all_half, error_function = deepcallib.MSE, name=\"VTB\", initial_range=[0, 4])\n"
   ]
  },
  {
   "cell_type": "code",
   "execution_count": null,
   "metadata": {},
   "outputs": [],
   "source": [
    "\n"
   ]
  },
  {
   "cell_type": "markdown",
   "metadata": {},
   "source": [
    "## NOW we try with 3x3x3 matrices"
   ]
  },
  {
   "cell_type": "code",
   "execution_count": 6,
   "metadata": {},
   "outputs": [],
   "source": [
    "# l = 3  # Number of layers\n",
    "# w = 3  # Width\n",
    "# h = 3  # Height\n",
    "\n",
    "\n",
    "# zeros = np.zeros((l, w, h), dtype=float)\n",
    "# ones = np.ones((l, w, h), dtype=float)\n",
    "\n",
    "# opt_rotations = deepcallib.calculate_optimal_rotations(zeros, ones, error_function = deepcallib.MSE, name=\"VTB\", initial_range=[0, 4])\n",
    "# opt_rotations = deepcallib.calculate_optimal_rotations(ones, zeros, error_function = deepcallib.MSE, name=\"VTB\", initial_range=[0, 4])\n",
    "\n"
   ]
  },
  {
   "cell_type": "code",
   "execution_count": 7,
   "metadata": {},
   "outputs": [],
   "source": [
    "# one_in_corder = np.zeros((l, w, h), dtype=float)\n",
    "# one_in_corder[0][0][0] = 1\n",
    "# one_in_opposite_corder = np.zeros((l, w, h), dtype=float)\n",
    "# one_in_corder[2][2][2] = 1\n",
    "\n",
    "# opt_rotations = deepcallib.calculate_optimal_rotations(one_in_opposite_corder, one_in_corder, error_function = deepcallib.MSE, name=\"VTB\", initial_range=[0, 4])\n",
    "# opt_rotations = deepcallib.calculate_optimal_rotations(one_in_corder, one_in_opposite_corder, error_function = deepcallib.MSE, name=\"VTB\", initial_range=[0, 4])\n"
   ]
  },
  {
   "cell_type": "markdown",
   "metadata": {},
   "source": [
    "# random testing (MSE)"
   ]
  },
  {
   "cell_type": "code",
   "execution_count": 8,
   "metadata": {},
   "outputs": [],
   "source": [
    "# l = 10\n",
    "# w = 10\n",
    "\n",
    "# random1 = np.array([[0.0, 1.0], [0.0,0.0]])\n",
    "\n",
    "\n",
    "\n",
    "# random2 = np.array([[1.0, 0.0], [0.0,0.0]])\n",
    "\n",
    "# opt_rotations = deepcallib.calculate_optimal_rotations(random1, random2, error_function = deepcallib.MSE, name=\"VTB\", initial_range=[0, 4])\n",
    "# opt_rotations = deepcallib.calculate_optimal_rotations(random2, random1, error_function = deepcallib.MSE, name=\"VTB\", initial_range=[0, 4])\n",
    "\n",
    "\n",
    "\n",
    "# print(random1)\n",
    "# print(random2)"
   ]
  },
  {
   "cell_type": "markdown",
   "metadata": {},
   "source": [
    "# Random testing L1 nrom"
   ]
  },
  {
   "cell_type": "code",
   "execution_count": 9,
   "metadata": {},
   "outputs": [],
   "source": [
    "\n",
    "# random1 = np.random.rand(l, w)\n",
    "# random2 = random1.copy()*2\n",
    "\n",
    "# opt_rotations = deepcallib.calculate_optimal_rotations(random1, random2, error_function = deepcallib.L1_dif, name=\"VTB\", initial_range=[0, 4])\n",
    "# opt_rotations = deepcallib.calculate_optimal_rotations(random2, random1, error_function = deepcallib.L1_dif, name=\"VTB\", initial_range=[0, 4])\n",
    "\n",
    "\n",
    "\n",
    "\n",
    "# print(random1)\n",
    "# print(random2)"
   ]
  },
  {
   "cell_type": "code",
   "execution_count": 10,
   "metadata": {},
   "outputs": [],
   "source": [
    "\n",
    "# random1 = np.random.rand(l, w)*2\n",
    "# random2 = np.random.rand(l, w)\n",
    "\n",
    "# opt_rotations = deepcallib.calculate_optimal_rotations(random1, random2, error_function = deepcallib.total_dose_dif, name=\"VTB\", initial_range=[0, 4])\n",
    "# opt_rotations = deepcallib.calculate_optimal_rotations(random2, random1, error_function = deepcallib.total_dose_dif, name=\"VTB\", initial_range=[0, 4])\n",
    "\n",
    "\n",
    "# print(random1)\n",
    "# print(random2)"
   ]
  },
  {
   "cell_type": "markdown",
   "metadata": {},
   "source": [
    "# finding surface testing..."
   ]
  },
  {
   "cell_type": "code",
   "execution_count": 11,
   "metadata": {},
   "outputs": [],
   "source": [
    "# arr1 = np.array([[[0.5, 1.0, 0.5], [0.5, 0.5, 1.0]],\n",
    "#                 [[1.0, 1.0, 1.0], [0.5, 0.5, 0.5]]])\n",
    "\n",
    "# arr2 = np.array([[[1.0, 0.0], [0.0, 0.0]],\n",
    "#                 [[0.0, 0.0], [0.0, 0.0]]])\n",
    "\n",
    "# arr3 = np.array([[[1.0, 0.0], [0.0, 0.0]],\n",
    "#                 [[0.0, 0.0], [0.0, 1.0]]])\n",
    "\n",
    "# arr4 = np.array([[[1.0, 1.0], [1.0, 0.0]],\n",
    "#                 [[1.0, 0.0], [0.0, 0.0]]])\n",
    "\n",
    "\n",
    "# adjacent_voxels1 = deepcallib.find_border_voxels(arr1, 1.0)\n",
    "# adjacent_voxels2 = deepcallib.find_border_voxels(arr2, 1.0)\n",
    "# adjacent_voxels3 = deepcallib.find_border_voxels(arr3, 1.0)\n",
    "# adjacent_voxels4 = deepcallib.find_border_voxels(arr4, 1.0)\n",
    "# adjacent_voxels5 = deepcallib.find_border_voxels(arr4, 0.0)\n",
    "\n",
    "# print(\"border voxels of 1.0 in arr1:\", adjacent_voxels1)\n",
    "# print(\"border voxels of 1.0 in arr2:\", adjacent_voxels2)\n",
    "# print(\"border voxels of 1.0 in arr3:\", adjacent_voxels3)\n",
    "# print(\"border voxels of 1.0 in arr4:\", adjacent_voxels4)\n",
    "# print(\"border voxels of 0.0 in arr4:\", adjacent_voxels5)"
   ]
  },
  {
   "cell_type": "markdown",
   "metadata": {},
   "source": [
    "# BFS Search testing..."
   ]
  },
  {
   "cell_type": "code",
   "execution_count": 12,
   "metadata": {},
   "outputs": [],
   "source": [
    "# arr1 = np.array([[[0,0,0,0,0,0,0,0,1,0]]])\n",
    "# adjacent_voxels1 = deepcallib.find_border_voxels(arr1, 1.0)\n",
    "# print(\"border voxels of 1.0 in arr1:\", adjacent_voxels1)\n",
    "\n",
    "# print(deepcallib.bfs_search(1.0, (0,0,0), arr1))\n",
    "# print(deepcallib.bfs_search(1.0, (0,0,1), arr1))\n",
    "# print(deepcallib.bfs_search(1.0, (0,0,4), arr1))\n",
    "# print(deepcallib.bfs_search(1.0, (0,0,9), arr1))"
   ]
  },
  {
   "cell_type": "code",
   "execution_count": 13,
   "metadata": {},
   "outputs": [],
   "source": [
    "# arr1 = np.array([[[1,0,0,0,0,0,0,0,0,1]]])\n",
    "# adjacent_voxels1 = deepcallib.find_border_voxels(arr1, 1.0)\n",
    "# print(\"border voxels of 1.0 in arr1:\", adjacent_voxels1)\n",
    "\n",
    "# print(deepcallib.bfs_search(1.0, (0,0,0), arr1))\n",
    "# print(deepcallib.bfs_search(1.0, (0,0,1), arr1))\n",
    "# print(deepcallib.bfs_search(1.0, (0,0,5), arr1))\n",
    "# print(deepcallib.bfs_search(1.0, (0,0,9), arr1))"
   ]
  },
  {
   "cell_type": "code",
   "execution_count": 14,
   "metadata": {},
   "outputs": [],
   "source": [
    "# arr1 = np.array([[[1,0.5,0.2,0.4,0.8,0.1,1.1,-9,2,1]]])\n",
    "# adjacent_voxels1 = deepcallib.find_border_voxels(arr1, 1.0)\n",
    "# print(\"border voxels of 1.0 in arr1:\", adjacent_voxels1)\n",
    "\n",
    "# print(deepcallib.bfs_search(1.0, (0,0,0), arr1))\n",
    "# print(deepcallib.bfs_search(1.0, (0,0,1), arr1))\n",
    "# print(deepcallib.bfs_search(1.0, (0,0,5), arr1))\n",
    "# print(deepcallib.bfs_search(1.0, (0,0,9), arr1))"
   ]
  },
  {
   "cell_type": "code",
   "execution_count": 15,
   "metadata": {},
   "outputs": [],
   "source": [
    "# arr1 = np.array([[[1,0,0,0,0,0,0,0,0,1]]])\n",
    "# adjacent_voxels1 = deepcallib.find_border_voxels(arr1, 1.0)\n",
    "# print(\"border voxels of 1.0 in arr1:\", adjacent_voxels1)\n",
    "\n",
    "# print(deepcallib.bfs_search(0.0, (0,0,0), arr1))\n",
    "# print(deepcallib.bfs_search(0.0, (0,0,1), arr1))\n",
    "# print(deepcallib.bfs_search(0.0, (0,0,5), arr1))\n",
    "# print(deepcallib.bfs_search(0.0, (0,0,9), arr1))"
   ]
  },
  {
   "cell_type": "code",
   "execution_count": 16,
   "metadata": {},
   "outputs": [],
   "source": [
    "# import numpy as np\n",
    "# import deepcallib\n",
    "# arr1 = np.array([[[1,0,0,0,0,0,0,0,0,1]]])\n",
    "# adjacent_voxels1 = deepcallib.find_border_voxels(arr1, 1.0)\n",
    "# print(\"border voxels of 1.0 in arr1:\", adjacent_voxels1)\n",
    "\n",
    "# print(deepcallib.bfs_search_c(1.0, adjacent_voxels1, arr1))\n"
   ]
  },
  {
   "cell_type": "markdown",
   "metadata": {},
   "source": [
    "# surface compare error testing..."
   ]
  },
  {
   "cell_type": "code",
   "execution_count": 17,
   "metadata": {},
   "outputs": [],
   "source": [
    "# arr1 = np.array([[[1,0,0,0,0,0,0,0,0,1]]])\n",
    "# arr2 = np.array([[[1,0,0,0,0,0,0,0,0,1]]])\n",
    "\n",
    "\n",
    "\n",
    "# print(deepcallib.surface_compare(arr1, arr2))\n"
   ]
  },
  {
   "cell_type": "code",
   "execution_count": 18,
   "metadata": {},
   "outputs": [],
   "source": [
    "# arr1 = np.array([[[1,0,0,0,0,0,0,0,0,1]]])\n",
    "# arr2 = np.array([[[1,0,0,0,0,0,0,0,1,1]]])\n",
    "\n",
    "\n",
    "\n",
    "# print(deepcallib.surface_compare(arr1, arr2))\n",
    "# # cured, uncured\n"
   ]
  },
  {
   "cell_type": "code",
   "execution_count": 19,
   "metadata": {},
   "outputs": [],
   "source": [
    "# arr1 = np.array([[[1,0,0,0,0,0,0,0,0,1]]])\n",
    "# arr2 = np.array([[[0,0,0,0,0,0,0,0,0.5,0]]])\n",
    "\n",
    "\n",
    "\n",
    "# print(deepcallib.surface_compare(arr1, arr2))\n",
    "# # cured, uncured"
   ]
  },
  {
   "cell_type": "code",
   "execution_count": 20,
   "metadata": {},
   "outputs": [],
   "source": [
    "# arr1 = np.array([[[1,0,0,0,0,0,0,1,1,1]]])\n",
    "# arr2 = np.array([[[1,0,0,0,0,0,0,0,0,1]]])\n",
    "\n",
    "# # print(deepcallib.bfs_search(1.0, (0,0,8), arr2))\n",
    "\n",
    "# print(deepcallib.surface_compare(arr1, arr2))\n",
    "# # cured, uncured"
   ]
  },
  {
   "cell_type": "code",
   "execution_count": 21,
   "metadata": {},
   "outputs": [],
   "source": [
    "# # interesting\n",
    "\n",
    "# arr1 = np.array([[[1,0,0,0,0,0,0,1,1,1],\n",
    "#                   [0,0,0,0,0,0,0,0,0,0]]])\n",
    "# arr2 = np.array([[[1,0,0,0,0,0,0,0,0,1],\n",
    "#                   [0,0,0,0,0,0,0,0,0,0]]])\n",
    "\n",
    "# # print(deepcallib.bfs_search(1.0, (0,0,8), arr2))\n",
    "\n",
    "# print(deepcallib.surface_compare(arr1, arr2))\n",
    "# # cured, uncured"
   ]
  },
  {
   "cell_type": "code",
   "execution_count": 22,
   "metadata": {},
   "outputs": [],
   "source": [
    "# # interesting\n",
    "# arr1 = np.array([[[1,0],\n",
    "#                   [0,1]]])\n",
    "# arr2 = np.array([[[0,1],\n",
    "#                   [1,0]]])\n",
    "\n",
    "# # print(deepcallib.bfs_search(1.0, (0,0,8), arr2))\n",
    "\n",
    "# print(deepcallib.surface_compare(arr1, arr2))\n",
    "# # cured, uncured"
   ]
  },
  {
   "cell_type": "code",
   "execution_count": 23,
   "metadata": {},
   "outputs": [],
   "source": [
    "# # interesting\n",
    "\n",
    "# circle = np.array([[\n",
    "#                 [0, 0, 0, 0, 0, 0, 0, 0],\n",
    "#                 [0, 0, 0, 1, 1, 0, 0, 0],\n",
    "#                 [0, 0, 1, 1, 1, 1, 0, 0],\n",
    "#                 [0, 1, 1, 1, 1, 1, 1, 0],\n",
    "#                 [0, 1, 1, 1, 1, 1, 1, 0],\n",
    "#                 [0, 0, 1, 1, 1, 1, 0, 0],\n",
    "#                 [0, 0, 0, 1, 1, 0, 0, 0],\n",
    "#                 [0, 0, 0, 0, 0, 0, 0, 0]\n",
    "#                   ]])\n",
    "# circle2 = np.array([[\n",
    "#                 [0, 0, 0, 0, 0, 0, 0, 0],\n",
    "#                 [0, 0, 0, 1, 1, 0, 0, 0],\n",
    "#                 [0, 0, 1, 1, 1, 1, 0, 0],\n",
    "#                 [0, 1, 1, 1, 1, 1, 1, 0],\n",
    "#                 [0, 1, 1, 1, 1, 1, 1, 0],\n",
    "#                 [0, 0, 1, 1, 1, 1, 0, 0],\n",
    "#                 [0, 0, 0, 1, 1, 0, 0, 0],\n",
    "#                 [0, 0, 0, 0, 0, 0, 0, 0]\n",
    "#                   ]])\n",
    "\n",
    "# square = np.array([[\n",
    "#                 [0, 0, 0, 0, 0, 0, 0, 0],\n",
    "#                 [0, 1, 1, 1, 1, 1, 1, 0],\n",
    "#                 [0, 1, 1, 1, 1, 1, 1, 0],\n",
    "#                 [0, 1, 1, 1, 1, 1, 1, 0],\n",
    "#                 [0, 1, 1, 1, 1, 1, 1, 0],\n",
    "#                 [0, 1, 1, 1, 1, 1, 1, 0],\n",
    "#                 [0, 1, 1, 1, 1, 1, 1, 0],\n",
    "#                 [0, 0, 0, 0, 0, 0, 0, 0]\n",
    "#                   ]])\n",
    "\n",
    "# # print(deepcallib.bfs_search(1.0, (0,0,8), arr2))\n",
    "\n",
    "# # print(deepcallib.surface_compare(circle, circle2))\n",
    "# print(deepcallib.surface_compare(circle, square))\n",
    "# # print(deepcallib.surface_compare(square, circle))\n",
    "# # cured, uncured"
   ]
  },
  {
   "cell_type": "code",
   "execution_count": 24,
   "metadata": {},
   "outputs": [],
   "source": [
    "# inverted_circle2 = 1 - circle2\n",
    "# print(deepcallib.surface_compare(inverted_circle2, square))\n"
   ]
  },
  {
   "cell_type": "markdown",
   "metadata": {},
   "source": [
    "# rotation factor testing with surface compare"
   ]
  },
  {
   "cell_type": "code",
   "execution_count": 25,
   "metadata": {},
   "outputs": [],
   "source": [
    "# arr1 = np.array([[[0.0, 1.0], [0.0,0.0]]])\n",
    "\n",
    "\n",
    "\n",
    "# arr2 = np.array([[[0.0, 0.25], [0.0, 0.0]]])\n",
    "\n",
    "# print(deepcallib.surface_compare_combined_error(arr1, arr2))\n",
    "# print(arr2)\n",
    "\n",
    "# opt_rotations = deepcallib.calculate_optimal_rotations(arr1, arr2, error_function = deepcallib.surface_compare_combined_error, name=\"VTB\", initial_range=[0, 4], print_errors=True)\n",
    "# # opt_rotations = deepcallib.calculate_optimal_rotations(arr2, arr1, error_function = deepcallib.surface_compare_combined_error, name=\"VTB\", initial_range=[0, 4])\n",
    "\n"
   ]
  },
  {
   "cell_type": "code",
   "execution_count": 26,
   "metadata": {},
   "outputs": [],
   "source": [
    "# arr1 = np.array([[[0.0, 1.0], [1.0,0.0]]])\n",
    "\n",
    "\n",
    "\n",
    "# arr2 = np.array([[[0.5, 0.6], [0.8, 0.1]]])\n",
    "\n",
    "# print(deepcallib.surface_compare_combined_error(arr1, arr2))\n",
    "# print(arr2)\n",
    "\n",
    "# opt_rotations = deepcallib.calculate_optimal_rotations(arr1, arr2, error_function = deepcallib.surface_compare_combined_error, name=\"VTB\", initial_range=[0, 4], print_errors=True)\n",
    "# # opt_rotations = deepcallib.calculate_optimal_rotations(arr2, arr1, error_function = deepcallib.surface_compare_combined_error, name=\"VTB\", initial_range=[0, 4])\n",
    "\n"
   ]
  },
  {
   "cell_type": "code",
   "execution_count": 27,
   "metadata": {},
   "outputs": [],
   "source": [
    "# # interesting\n",
    "\n",
    "# circle = np.array([[\n",
    "#                 [0, 0, 0, 0, 0, 0, 0, 0],\n",
    "#                 [0, 0, 0, 1, 1, 0, 0, 0],\n",
    "#                 [0, 0, 1, 1, 1, 1, 0, 0],\n",
    "#                 [0, 1, 1, 1, 1, 1, 1, 0],\n",
    "#                 [0, 1, 1, 1, 1, 1, 1, 0],\n",
    "#                 [0, 0, 1, 1, 1, 1, 0, 0],\n",
    "#                 [0, 0, 0, 1, 1, 0, 0, 0],\n",
    "#                 [0, 0, 0, 0, 0, 0, 0, 0]\n",
    "#                   ]])\n",
    "# not_perfect_square = np.array([[\n",
    "#                 [0, 0, 0, 0, 0, 0, 0, 0],\n",
    "#                 [0, 0.8, 0.8, 1, 1, 1, 1, 0],\n",
    "#                 [0.5, 0.8, 1, 1, 1, 1, 1, 0],\n",
    "#                 [0.1, 0.7, 0.3, 1, 1, 1, 1, 0],\n",
    "#                 [0.2, 0.5, 0.8, 1, 1, 1, 1, 0],\n",
    "#                 [0.4, 0.8, 0.9, 1, 1, 1, 1, 0],\n",
    "#                 [0.3, 0.6, 0.7, 1, 1, 1, 1, 0],\n",
    "#                 [0, 0, 0, 0, 0, 0, 0, 0]\n",
    "#                   ]])\n",
    "\n",
    "# square = np.array([[\n",
    "#                 [0, 0, 0, 0, 0, 0, 0, 0],\n",
    "#                 [0, 1, 1, 1, 1, 1, 1, 0],\n",
    "#                 [0, 1, 1, 1, 1, 1, 1, 0],\n",
    "#                 [0, 1, 1, 1, 1, 1, 1, 0],\n",
    "#                 [0, 1, 1, 1, 1, 1, 1, 0],\n",
    "#                 [0, 1, 1, 1, 1, 1, 1, 0],\n",
    "#                 [0, 1, 1, 1, 1, 1, 1, 0],\n",
    "#                 [0, 0, 0, 0, 0, 0, 0, 0]\n",
    "#                   ]])\n",
    "\n",
    "\n",
    "# opt_rotations = deepcallib.calculate_optimal_rotations(square, not_perfect_square, error_function = deepcallib.surface_compare_combined_error, name=\"VTB\", initial_range=[0, 4], print_errors=True)\n",
    "# # opt_rotations = deepcallib.calculate_optimal_rotations(arr2, arr1, error_function = deepcallib.surface_compare_combined_error, name=\"VTB\", initial_range=[0, 4])\n",
    "\n"
   ]
  },
  {
   "cell_type": "code",
   "execution_count": 28,
   "metadata": {},
   "outputs": [],
   "source": [
    "# circle = np.array([[\n",
    "#                 [0, 0, 0, 0, 0, 0, 0, 0],\n",
    "#                 [0, 0, 0, 1, 1, 0, 0, 0],\n",
    "#                 [0, 0, 1, 1, 1, 1, 0, 0],\n",
    "#                 [0, 1, 1, 1, 1, 1, 1, 0],\n",
    "#                 [0, 1, 1, 1, 1, 1, 1, 0],\n",
    "#                 [0, 0, 1, 1, 1, 1, 0, 0],\n",
    "#                 [0, 0, 0, 1, 1, 0, 0, 0],\n",
    "#                 [0, 0, 0, 0, 0, 0, 0, 0]\n",
    "#                   ]])\n",
    "\n",
    "# faded_circle = np.array([[[0.2, 0.2, 0.2, 0.2, 0.2, 0.2, 0.2, 0.2],\n",
    "#         [0.2, 0.2, 0.2, 0.5, 0.5, 0.2, 0.2, 0.2],\n",
    "#         [0.2, 0.2, 0.5, 0.5, 0.5, 0.5, 0.2, 0.2],\n",
    "#         [0.2, 0.5, 0.5, 0.5, 0.5, 0.5, 0.5, 0.2],\n",
    "#         [0.2, 0.5, 0.5, 0.5, 0.5, 0.5, 0.5, 0.2],\n",
    "#         [0.2, 0.2, 0.5, 0.5, 0.5, 0.5, 0.2, 0.2],\n",
    "#         [0.2, 0.2, 0.2, 0.5, 0.5, 0.2, 0.2, 0.2],\n",
    "#         [0.2, 0.2, 0.2, 0.2, 0.2, 0.2, 0.2, 0.2]]])\n",
    "\n",
    "\n",
    "# opt_rotations = deepcallib.calculate_optimal_rotations(circle, faded_circle, error_function = deepcallib.surface_compare_combined_error, name=\"VTB\", initial_range=[0, 4], print_errors=True)\n",
    "\n"
   ]
  },
  {
   "cell_type": "code",
   "execution_count": 29,
   "metadata": {},
   "outputs": [],
   "source": [
    "\n",
    "# random1 = np.random.rand(10, 10, 10)*2\n",
    "\n",
    "# random2 = np.random.rand(10, 10, 10)\n",
    "\n",
    "# opt_rotations = deepcallib.calculate_optimal_rotations(random1, random2, error_function = deepcallib.surface_compare_combined_error, name=\"VTB\", initial_range=[0, 4], print_errors=True)\n",
    "# opt_rotations = deepcallib.calculate_optimal_rotations(random2, random1, error_function = deepcallib.surface_compare_combined_error, name=\"VTB\", initial_range=[0, 4], print_errors=True)\n",
    "\n",
    "\n",
    "# print(random1)\n",
    "# print(random2)"
   ]
  },
  {
   "cell_type": "code",
   "execution_count": 31,
   "metadata": {},
   "outputs": [
    {
     "name": "stdout",
     "output_type": "stream",
     "text": [
      "processing ground truth\n",
      "finding border voxels...\n",
      "done finding border voxels... [(0, 0, 3), (0, 0, 5)]\n",
      "Current point (0, 0, 3)\n",
      "Current point (0, 0, 5)\n",
      "Current point (0, 0, 4)\n"
     ]
    },
    {
     "ename": "KeyError",
     "evalue": "(0, 0, 4)",
     "output_type": "error",
     "traceback": [
      "\u001b[1;31m---------------------------------------------------------------------------\u001b[0m",
      "\u001b[1;31mKeyError\u001b[0m                                  Traceback (most recent call last)",
      "Cell \u001b[1;32mIn[31], line 10\u001b[0m\n\u001b[0;32m      1\u001b[0m point \u001b[38;5;241m=\u001b[39m np\u001b[38;5;241m.\u001b[39marray([[\n\u001b[0;32m      2\u001b[0m                 [\u001b[38;5;241m0\u001b[39m, \u001b[38;5;241m0\u001b[39m, \u001b[38;5;241m0\u001b[39m, \u001b[38;5;241m0\u001b[39m, \u001b[38;5;241m1\u001b[39m, \u001b[38;5;241m0\u001b[39m, \u001b[38;5;241m0\u001b[39m, \u001b[38;5;241m0\u001b[39m],\n\u001b[0;32m      3\u001b[0m                   ]])\n\u001b[1;32m---> 10\u001b[0m \u001b[38;5;28mprint\u001b[39m(\u001b[43mdeepcallib\u001b[49m\u001b[38;5;241;43m.\u001b[39;49m\u001b[43mbwdist\u001b[49m\u001b[43m(\u001b[49m\u001b[43mpoint\u001b[49m\u001b[43m,\u001b[49m\u001b[43m \u001b[49m\u001b[38;5;241;43m1\u001b[39;49m\u001b[43m)\u001b[49m)\n",
      "File \u001b[1;32mc:\\Users\\Mark\\Desktop\\savio\\deepCAL\\deepcallib.py:992\u001b[0m, in \u001b[0;36mbwdist\u001b[1;34m(array, voxel_value)\u001b[0m\n\u001b[0;32m    989\u001b[0m                 potential_distance \u001b[38;5;241m=\u001b[39m distance_map[new_point] \u001b[38;5;241m+\u001b[39m l2_distance\n\u001b[0;32m    991\u001b[0m             \u001b[38;5;66;03m# Update the distance value if it's smaller than the current value\u001b[39;00m\n\u001b[1;32m--> 992\u001b[0m             \u001b[38;5;28;01mif\u001b[39;00m potential_distance \u001b[38;5;241m<\u001b[39m \u001b[43mdistance_map\u001b[49m\u001b[43m[\u001b[49m\u001b[43mcurrent_point\u001b[49m\u001b[43m]\u001b[49m:\n\u001b[0;32m    993\u001b[0m                 distance_map[new_point] \u001b[38;5;241m=\u001b[39m potential_distance\n\u001b[0;32m    997\u001b[0m \u001b[38;5;66;03m# Convert the distance map to a numpy array\u001b[39;00m\n",
      "\u001b[1;31mKeyError\u001b[0m: (0, 0, 4)"
     ]
    }
   ],
   "source": [
    "point = np.array([[\n",
    "                [0, 0, 0, 0, 0, 0, 0, 0],\n",
    "                [0, 0, 0, 0, 0, 0, 0, 0],\n",
    "                [0, 0, 0, 0, 0, 0, 0, 0],\n",
    "                [0, 0, 0, 1, 1, 0, 0, 0],\n",
    "                [0, 0, 0, 1, 1, 0, 0, 0],\n",
    "                [0, 0, 0, 0, 0, 0, 0, 0],\n",
    "                [0, 0, 0, 0, 0, 0, 0, 0],\n",
    "                [0, 0, 0, 0, 0, 0, 0, 0]\n",
    "                  ]])\n",
    "\n",
    "\n",
    "\n",
    "\n",
    "\n",
    "\n",
    "print(deepcallib.bwdist(point, 0))"
   ]
  }
 ],
 "metadata": {
  "kernelspec": {
   "display_name": "ModifiedCALenv",
   "language": "python",
   "name": "python3"
  },
  "language_info": {
   "codemirror_mode": {
    "name": "ipython",
    "version": 3
   },
   "file_extension": ".py",
   "mimetype": "text/x-python",
   "name": "python",
   "nbconvert_exporter": "python",
   "pygments_lexer": "ipython3",
   "version": "3.9.11"
  }
 },
 "nbformat": 4,
 "nbformat_minor": 2
}
